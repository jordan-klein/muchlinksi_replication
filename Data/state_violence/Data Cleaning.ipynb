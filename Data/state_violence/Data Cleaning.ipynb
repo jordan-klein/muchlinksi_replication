{
 "cells": [
  {
   "cell_type": "code",
   "execution_count": 1,
   "metadata": {},
   "outputs": [
    {
     "name": "stderr",
     "output_type": "stream",
     "text": [
      "/home/matthewkol186/anaconda3/lib/python3.7/site-packages/fuzzywuzzy/fuzz.py:11: UserWarning: Using slow pure-python SequenceMatcher. Install python-Levenshtein to remove this warning\n",
      "  warnings.warn('Using slow pure-python SequenceMatcher. Install python-Levenshtein to remove this warning')\n"
     ]
    }
   ],
   "source": [
    "import pandas as pd\n",
    "import numpy as np\n",
    "from fuzzywuzzy import fuzz, process"
   ]
  },
  {
   "cell_type": "code",
   "execution_count": 2,
   "metadata": {},
   "outputs": [],
   "source": [
    "brd_df = pd.read_csv(\"battle_deaths.csv\")\n",
    "pop_df = pd.read_csv(\"total_pop.csv\")"
   ]
  },
  {
   "cell_type": "code",
   "execution_count": 3,
   "metadata": {},
   "outputs": [
    {
     "name": "stdout",
     "output_type": "stream",
     "text": [
      "{'3', '4', '2', '3, 4'}\n",
      "{'3', '4', '3, 4'}\n"
     ]
    }
   ],
   "source": [
    "# filter to intrastate deaths\n",
    "print(set(brd_df[\"type_of_conflict\"].tolist()))\n",
    "brd_df = brd_df[brd_df[\"type_of_conflict\"] != '2']\n",
    "print(set(brd_df[\"type_of_conflict\"].tolist()))"
   ]
  },
  {
   "cell_type": "code",
   "execution_count": 4,
   "metadata": {},
   "outputs": [
    {
     "data": {
      "text/plain": [
       "Index(['conflict_id', 'dyad_id', 'location_inc', 'side_a', 'side_a_id',\n",
       "       'side_a_2nd', 'side_b', 'side_b_id', 'side_b_2nd', 'incompatibility',\n",
       "       'territory_name', 'year', 'bd_best', 'bd_low', 'bd_high',\n",
       "       'type_of_conflict', 'battle_location', 'gwno_a', 'gwno_a_2nd', 'gwno_b',\n",
       "       'gwno_b_2nd', 'gwno_loc', 'gwno_battle', 'region', 'version'],\n",
       "      dtype='object')"
      ]
     },
     "execution_count": 4,
     "metadata": {},
     "output_type": "execute_result"
    }
   ],
   "source": [
    "brd_df.columns"
   ]
  },
  {
   "cell_type": "code",
   "execution_count": 5,
   "metadata": {},
   "outputs": [
    {
     "name": "stdout",
     "output_type": "stream",
     "text": [
      "['Afghanistan', 'Algeria', 'Angola', 'Azerbaijan', 'Bangladesh', 'Bosnia-Herzegovina', 'Burkina Faso', 'Burundi', 'Cambodia (Kampuchea)', 'Cameroon', 'Central African Republic', 'Chad', 'China', 'Colombia', 'Comoros', 'Congo', 'Croatia', 'DR Congo (Zaire)', 'Djibouti', 'Egypt', 'El Salvador', 'Eritrea', 'Ethiopia', 'Georgia', 'Guatemala', 'Guinea', 'Guinea-Bissau', 'Haiti', 'India', 'Indonesia', 'Iran', 'Iraq', 'Israel', 'Ivory Coast', 'Jordan', 'Kenya', 'Laos', 'Lebanon', 'Lesotho', 'Liberia', 'Libya', 'Malaysia', 'Mali', 'Mauritania', 'Mexico', 'Moldova', 'Morocco', 'Mozambique', 'Myanmar (Burma)', 'Nepal', 'Nicaragua', 'Niger', 'Nigeria', 'North Macedonia', 'Pakistan', 'Panama', 'Papua New Guinea', 'Paraguay', 'Peru', 'Philippines', 'Romania', 'Russia (Soviet Union)', 'Rwanda', 'Senegal', 'Serbia (Yugoslavia)', 'Sierra Leone', 'Somalia', 'South Sudan', 'Spain', 'Sri Lanka', 'Sudan', 'Syria', 'Tajikistan', 'Thailand', 'Trinidad and Tobago', 'Tunisia', 'Turkey', 'Uganda', 'Ukraine', 'United Kingdom', 'United States of America', 'Uzbekistan', 'Venezuela', 'Yemen (North Yemen)']\n"
     ]
    }
   ],
   "source": [
    "brd_locations = sorted(list(set(brd_df[\"location_inc\"].tolist())))\n",
    "print(brd_locations)"
   ]
  },
  {
   "cell_type": "code",
   "execution_count": 6,
   "metadata": {},
   "outputs": [
    {
     "data": {
      "text/plain": [
       "Index(['LocID', 'Location', 'VarID', 'Variant', 'Time', 'MidPeriod', 'PopMale',\n",
       "       'PopFemale', 'PopTotal', 'PopDensity'],\n",
       "      dtype='object')"
      ]
     },
     "execution_count": 6,
     "metadata": {},
     "output_type": "execute_result"
    }
   ],
   "source": [
    "pop_df.columns"
   ]
  },
  {
   "cell_type": "code",
   "execution_count": 7,
   "metadata": {},
   "outputs": [
    {
     "name": "stdout",
     "output_type": "stream",
     "text": [
      "['Afghanistan', 'Africa', 'African Group', 'African Union', 'African Union: Central Africa', 'African Union: Eastern Africa', 'African Union: Northern Africa', 'African Union: Southern Africa', 'African Union: Western Africa', 'African, Caribbean and Pacific (ACP) Group of States', 'Albania', 'Algeria', 'American Samoa', 'Andean Community', 'Andorra', 'Angola', 'Anguilla', 'Antigua and Barbuda', 'Argentina', 'Armenia', 'Aruba', 'Asia', 'Asia-Pacific Economic Cooperation (APEC)', 'Asia-Pacific Group', 'Association of Southeast Asian Nations (ASEAN)', 'Australia', 'Australia/New Zealand', 'Austria', 'Azerbaijan', 'BRIC', 'BRICS', 'Bahamas', 'Bahrain', 'Bangladesh', 'Barbados', 'Belarus', 'Belgium', 'Belize', 'Belt-Road Initiative (BRI)', 'Belt-Road Initiative: Africa', 'Belt-Road Initiative: Asia', 'Belt-Road Initiative: Europe', 'Belt-Road Initiative: Latin America and the Caribbean', 'Belt-Road Initiative: Pacific', 'Benin', 'Bermuda', 'Bhutan', 'Black Sea Economic Cooperation (BSEC)', 'Bolivarian Alliance for the Americas (ALBA)', 'Bolivia (Plurinational State of)', 'Bonaire, Sint Eustatius and Saba', 'Bosnia and Herzegovina', 'Botswana', 'Brazil', 'British Virgin Islands', 'Brunei Darussalam', 'Bulgaria', 'Burkina Faso', 'Burundi', 'Cabo Verde', 'Cambodia', 'Cameroon', 'Canada', 'Caribbean', 'Caribbean Community and Common Market (CARICOM)', 'Cayman Islands', 'Central African Republic', 'Central America', 'Central Asia', 'Central European Free Trade Agreement (CEFTA)', 'Central and Southern Asia', 'Chad', 'Channel Islands', 'Chile', 'China', 'China (and dependencies)', 'China, Hong Kong SAR', 'China, Macao SAR', 'China, Taiwan Province of China', 'Colombia', 'Commonwealth of Independent States (CIS)', 'Commonwealth of Nations', 'Commonwealth: Africa', 'Commonwealth: Asia', 'Commonwealth: Caribbean and Americas', 'Commonwealth: Europe', 'Commonwealth: Pacific', 'Comoros', 'Congo', 'Cook Islands', 'Costa Rica', 'Countries with Access to the Sea', 'Countries with Access to the Sea: Africa', 'Countries with Access to the Sea: Asia', 'Countries with Access to the Sea: Europe', 'Countries with Access to the Sea: Latin America and the Caribbean', 'Countries with Access to the Sea: Northern America', 'Countries with Access to the Sea: Oceania', 'Croatia', 'Cuba', 'Curaçao', 'Cyprus', 'Czechia', \"Côte d'Ivoire\", \"Dem. People's Republic of Korea\", 'Democratic Republic of the Congo', 'Denmark', 'Denmark (and dependencies)', 'Djibouti', 'Dominica', 'Dominican Republic', 'ECE: North America-2', 'ECE: UNECE-52', 'ECLAC: Latin America', 'ECLAC: The Caribbean', 'ESCAP region: East and North-East Asia', 'ESCAP region: North and Central Asia', 'ESCAP region: Pacific', 'ESCAP region: South and South-West Asia', 'ESCAP region: South-East Asia', 'ESCAP: ADB Developing member countries (DMCs)', 'ESCAP: ADB Group A (Concessional assistance\\xa0only)', 'ESCAP: ADB Group B\\xa0(OCR blend)', 'ESCAP: ADB Group C (Regular OCR only)', 'ESCAP: ASEAN', 'ESCAP: Central Asia', 'ESCAP: ECO', 'ESCAP: HDI groups', 'ESCAP: Landlocked countries (LLDCs)', 'ESCAP: Least Developed Countries (LDCs)', 'ESCAP: Pacific island dev. econ.', 'ESCAP: SAARC', 'ESCAP: WB High income econ.', 'ESCAP: WB Low income econ.', 'ESCAP: WB Lower middle income econ.', 'ESCAP: WB Upper middle income econ.', 'ESCAP: WB income groups', 'ESCAP: high HDI', 'ESCAP: high income', 'ESCAP: income groups', 'ESCAP: low HDI', 'ESCAP: low income', 'ESCAP: lower middle HDI', 'ESCAP: lower middle income', 'ESCAP: other Asia-Pacific countries/areas', 'ESCAP: upper middle HDI', 'ESCAP: upper middle income', 'ESCWA: Arab countries', 'ESCWA: Arab least developed countries', 'ESCWA: Gulf Cooperation Council countries', 'ESCWA: Maghreb countries', 'ESCWA: Mashreq countries', 'ESCWA: member countries', 'East African Community (EAC)', 'Eastern Africa', 'Eastern Asia', 'Eastern Europe', 'Eastern European Group', 'Eastern and South-Eastern Asia', 'Economic Community of Central African States (ECCAS)', 'Economic Community of West African States (ECOWAS)', 'Economic Cooperation Organization (ECO)', 'Ecuador', 'Egypt', 'El Salvador', 'Equatorial Guinea', 'Eritrea', 'Estonia', 'Eswatini', 'Ethiopia', 'Eurasian Economic Community (Eurasec)', 'Europe', 'Europe (48)', 'Europe and Northern America', 'European Community (EC: 12)', 'European Free Trade Agreement (EFTA)', 'European Union (EU: 15)', 'European Union (EU: 28)', 'Falkland Islands (Malvinas)', 'Faroe Islands', 'Fiji', 'Finland', 'France', 'France (and dependencies)', 'French Guiana', 'French Polynesia', 'Gabon', 'Gambia', 'Georgia', 'Germany', 'Ghana', 'Gibraltar', 'Greater Arab Free Trade Area (GAFTA)', 'Greece', 'Greenland', 'Grenada', 'Group of 77 (G77)', 'Group of Eight (G8)', 'Group of Seven (G7)', 'Group of Twenty (G20) - member states', 'Guadeloupe', 'Guam', 'Guatemala', 'Guinea', 'Guinea-Bissau', 'Gulf Cooperation Council (GCC)', 'Guyana', 'Haiti', 'High-income countries', 'Holy See', 'Honduras', 'Hungary', 'Iceland', 'India', 'Indonesia', 'Iran (Islamic Republic of)', 'Iraq', 'Ireland', 'Isle of Man', 'Israel', 'Italy', 'Jamaica', 'Japan', 'Jordan', 'Kazakhstan', 'Kenya', 'Kiribati', 'Kuwait', 'Kyrgyzstan', 'LLDC: Africa', 'LLDC: Asia', 'LLDC: Europe', 'LLDC: Latin America', 'Land-locked Countries', 'Land-locked Countries (Others)', 'Land-locked Developing Countries (LLDC)', \"Lao People's Democratic Republic\", 'Latin America and the Caribbean', 'Latin American Integration Association (ALADI)', 'Latin American and Caribbean Group (GRULAC)', 'Latvia', 'League of Arab States (LAS, informal name: Arab League)', 'Least developed countries', 'Least developed: Africa', 'Least developed: Asia', 'Least developed: Latin America and the Caribbean', 'Least developed: Oceania', 'Lebanon', 'Lesotho', 'Less developed regions', 'Less developed regions, excluding China', 'Less developed regions, excluding least developed countries', 'Less developed: Africa', 'Less developed: Asia', 'Less developed: Latin America and the Caribbean', 'Less developed: Oceania', 'Liberia', 'Libya', 'Liechtenstein', 'Lithuania', 'Low-income countries', 'Lower-middle-income countries', 'Luxembourg', 'Madagascar', 'Malawi', 'Malaysia', 'Maldives', 'Mali', 'Malta', 'Marshall Islands', 'Martinique', 'Mauritania', 'Mauritius', 'Mayotte', 'Melanesia', 'Mexico', 'Micronesia', 'Micronesia (Fed. States of)', 'Middle Africa', 'Middle-income countries', 'Monaco', 'Mongolia', 'Montenegro', 'Montserrat', 'More developed regions', 'More developed: Asia', 'More developed: Europe', 'More developed: Northern America', 'More developed: Oceania', 'Morocco', 'Mozambique', 'Myanmar', 'Namibia', 'Nauru', 'Nepal', 'Netherlands', 'Netherlands (and dependencies)', 'New Caledonia', 'New EU member states (joined since 2004)', 'New Zealand', 'New Zealand (and dependencies)', 'Nicaragua', 'Niger', 'Nigeria', 'Niue', 'No income group available', 'Non-Self-Governing Territories', 'North American Free Trade Agreement (NAFTA)', 'North Atlantic Treaty Organization (NATO)', 'North Macedonia', 'Northern Africa', 'Northern Africa and Western Asia', 'Northern America', 'Northern Europe', 'Northern Mariana Islands', 'Norway', 'Oceania', 'Oceania (excluding Australia and New Zealand)', 'Oman', 'Organisation for Economic Co-operation and Development (OECD)', 'Organization for Security and Co-operation in Europe (OSCE)', 'Organization of American States (OAS)', 'Organization of Petroleum Exporting countries (OPEC)', 'Organization of the Islamic Conference (OIC)', 'Pakistan', 'Palau', 'Panama', 'Papua New Guinea', 'Paraguay', 'Peru', 'Philippines', 'Poland', 'Polynesia', 'Portugal', 'Puerto Rico', 'Qatar', 'Republic of Korea', 'Republic of Moldova', 'Romania', 'Russian Federation', 'Rwanda', 'Réunion', 'SIDS Atlantic, and Indian Ocean, Mediterranean and South China Sea (AIMS)', 'SIDS Caribbean', 'SIDS Pacific', 'Saint Barthélemy', 'Saint Helena', 'Saint Kitts and Nevis', 'Saint Lucia', 'Saint Martin (French part)', 'Saint Pierre and Miquelon', 'Saint Vincent and the Grenadines', 'Samoa', 'San Marino', 'Sao Tome and Principe', 'Saudi Arabia', 'Senegal', 'Serbia', 'Seychelles', 'Shanghai Cooperation Organization (SCO)', 'Sierra Leone', 'Singapore', 'Sint Maarten (Dutch part)', 'Slovakia', 'Slovenia', 'Small Island Developing States (SIDS)', 'Solomon Islands', 'Somalia', 'South Africa', 'South America', 'South Asian Association for Regional Cooperation (SAARC)', 'South Sudan', 'South-Eastern Asia', 'Southern Africa', 'Southern African Development Community (SADC)', 'Southern Asia', 'Southern Common Market (MERCOSUR)', 'Southern Europe', 'Spain', 'Sri Lanka', 'State of Palestine', 'Sub-Saharan Africa', 'Sudan', 'Suriname', 'Sweden', 'Switzerland', 'Syrian Arab Republic', 'Tajikistan', 'Thailand', 'Timor-Leste', 'Togo', 'Tokelau', 'Tonga', 'Trinidad and Tobago', 'Tunisia', 'Turkey', 'Turkmenistan', 'Turks and Caicos Islands', 'Tuvalu', 'UN-ECE: member countries', 'UNFPA Regions', 'UNFPA: Arab States (AS)', 'UNFPA: Asia and the Pacific (AP)', 'UNFPA: East and Southern Africa (ESA)', 'UNFPA: Eastern Europe and Central Asia (EECA)', 'UNFPA: Latin America and the Caribbean (LAC)', 'UNFPA: West and Central Africa (WCA)', 'UNICEF PROGRAMME REGIONS', 'UNICEF Programme Regions: East Asia and Pacific (EAPRO)', 'UNICEF Programme Regions: Eastern Caribbean', 'UNICEF Programme Regions: Eastern and Southern Africa (ESARO)', 'UNICEF Programme Regions: Europe and Central Asia (CEECIS)', 'UNICEF Programme Regions: Latin America', 'UNICEF Programme Regions: Latin America and Caribbean (LACRO)', 'UNICEF Programme Regions: Middle East and North Africa (MENARO)', 'UNICEF Programme Regions: South Asia (ROSA)', 'UNICEF Programme Regions: West and Central Africa (WCARO)', 'UNICEF REGIONS', 'UNICEF Regions: East Asia and Pacific', 'UNICEF Regions: Eastern Europe and Central Asia', 'UNICEF Regions: Eastern and Southern Africa', 'UNICEF Regions: Europe and Central Asia', 'UNICEF Regions: Latin America and Caribbean', 'UNICEF Regions: Middle East and North Africa', 'UNICEF Regions: North America', 'UNICEF Regions: South Asia', 'UNICEF Regions: Sub-Saharan Africa', 'UNICEF Regions: West and Central Africa', 'UNICEF Regions: Western Europe', 'UNITED NATIONS Regional Groups of Member States', 'Uganda', 'Ukraine', 'United Arab Emirates', 'United Kingdom', 'United Kingdom (and dependencies)', 'United Nations Economic Commission for Africa (UN-ECA)', 'United Nations Economic Commission for Latin America and the Caribbean (UN-ECLAC)', 'United Nations Economic and Social Commission for Asia and the Pacific (UN-ESCAP) Regions', 'United Nations Member States', 'United Republic of Tanzania', 'United States Virgin Islands', 'United States of America', 'United States of America (and dependencies)', 'Upper-middle-income countries', 'Uruguay', 'Uzbekistan', 'Vanuatu', 'Venezuela (Bolivarian Republic of)', 'Viet Nam', 'WB region: East Asia and Pacific (excluding high income)', 'WB region: Europe and Central Asia (excluding high income)', 'WB region: Latin America and Caribbean (excluding high income)', 'WB region: Middle East and North Africa (excluding high income)', 'WB region: South Asia (excluding high income)', 'WB region: Sub-Saharan Africa (excluding high income)', 'WHO Regions', 'WHO: African region (AFRO)', 'WHO: Americas (AMRO)', 'WHO: Eastern Mediterranean Region (EMRO)', 'WHO: European Region (EURO)', 'WHO: South-East Asia region (SEARO)', 'WHO: Western Pacific region (WPRO)', 'Wallis and Futuna Islands', 'West African Economic and Monetary Union (UEMOA)', 'Western Africa', 'Western Asia', 'Western Europe', 'Western European and Others Group (WEOG)', 'Western Sahara', 'World', 'World Bank Regional Groups (developing only)', 'Yemen', 'Zambia', 'Zimbabwe']\n"
     ]
    }
   ],
   "source": [
    "pop_locations = sorted(list(set(pop_df[\"Location\"].tolist())))\n",
    "print(pop_locations)"
   ]
  },
  {
   "cell_type": "code",
   "execution_count": 8,
   "metadata": {},
   "outputs": [
    {
     "name": "stdout",
     "output_type": "stream",
     "text": [
      "Bosnia-Herzegovina\n",
      "[('Bosnia and Herzegovina', 95), ('Asia', 68)]\n",
      "Cambodia (Kampuchea)\n",
      "[('Cambodia', 90), ('Chad', 68)]\n",
      "DR Congo (Zaire)\n",
      "[('Congo', 90), ('Democratic Republic of the Congo', 86)]\n",
      "Iran\n",
      "[('Iran (Islamic Republic of)', 90), ('Iraq', 75)]\n",
      "Ivory Coast\n",
      "[('Croatia', 61), (\"Côte d'Ivoire\", 58)]\n",
      "Laos\n",
      "[('Barbados', 68), ('Central Asia', 68)]\n",
      "Moldova\n",
      "[('Republic of Moldova', 90), ('American Samoa', 54)]\n",
      "Myanmar (Burma)\n",
      "[('Myanmar', 90), ('Oman', 64)]\n",
      "Russia (Soviet Union)\n",
      "[('African Union', 86), ('African Union: Northern Africa', 86)]\n",
      "Serbia (Yugoslavia)\n",
      "[('Serbia', 90), ('Latvia', 82)]\n",
      "Syria\n",
      "[('Syrian Arab Republic', 90), ('Serbia', 73)]\n",
      "Venezuela\n",
      "[('Venezuela (Bolivarian Republic of)', 90), ('Australia/New Zealand', 60)]\n",
      "Yemen (North Yemen)\n",
      "[('Yemen', 90), ('ESCAP region: East and North-East Asia', 86)]\n"
     ]
    }
   ],
   "source": [
    "# are all locations in BRD locatable in the pop dataset?\n",
    "for loc in brd_locations:\n",
    "    if loc not in pop_locations:\n",
    "        print(loc)\n",
    "        print(process.extract(loc,pop_locations, limit=2))"
   ]
  },
  {
   "cell_type": "code",
   "execution_count": 11,
   "metadata": {},
   "outputs": [],
   "source": [
    "# replace some country names in the UN population dataset\n",
    "pop_df = pop_df.replace(\"Lao People's Democratic Republic\", \"Laos\")\n",
    "pop_df = pop_df.replace(\"Russian Federation\", \"Russia (Soviet Union)\")\n",
    "pop_df = pop_df.replace(\"Côte d'Ivoire\", \"Ivory Coast\")\n",
    "pop_df = pop_df.replace(\"Democratic Republic of the Congo\", \"Congo\")"
   ]
  },
  {
   "cell_type": "code",
   "execution_count": 12,
   "metadata": {},
   "outputs": [],
   "source": [
    "# get locations again and look at matches\n",
    "pop_locations = sorted(list(set(pop_df[\"Location\"].tolist())))\n",
    "\n",
    "for loc in brd_locations:\n",
    "    if loc not in pop_locations:\n",
    "        pop_loc_string = process.extractOne(loc,pop_locations)[0]\n",
    "        print(loc, pop_loc_string)\n",
    "        pop_df = pop_df.replace(pop_loc_string, loc)"
   ]
  },
  {
   "cell_type": "code",
   "execution_count": 15,
   "metadata": {},
   "outputs": [],
   "source": [
    "pop_df = pop_df.set_index(['Location', 'Time'])"
   ]
  },
  {
   "cell_type": "code",
   "execution_count": 28,
   "metadata": {},
   "outputs": [
    {
     "name": "stderr",
     "output_type": "stream",
     "text": [
      "/home/matthewkol186/anaconda3/lib/python3.7/site-packages/ipykernel_launcher.py:1: PerformanceWarning: indexing past lexsort depth may impact performance.\n",
      "  \"\"\"Entry point for launching an IPython kernel.\n"
     ]
    },
    {
     "data": {
      "text/plain": [
       "7840.151"
      ]
     },
     "execution_count": 28,
     "metadata": {},
     "output_type": "execute_result"
    }
   ],
   "source": [
    "pop_df.loc['Afghanistan', 1951]['PopTotal'].values[0]"
   ]
  },
  {
   "cell_type": "code",
   "execution_count": 51,
   "metadata": {},
   "outputs": [
    {
     "name": "stderr",
     "output_type": "stream",
     "text": [
      "/home/matthewkol186/anaconda3/lib/python3.7/site-packages/ipykernel_launcher.py:2: PerformanceWarning: indexing past lexsort depth may impact performance.\n",
      "  \n"
     ]
    }
   ],
   "source": [
    "# now we create a new column of per capita deaths\n",
    "brd_df[\"per_capita_deaths\"] = brd_df.apply(lambda r: r['bd_best'] / pop_df.loc[r['location_inc'], r['year']]['PopTotal'].values[0], axis=1)"
   ]
  },
  {
   "cell_type": "code",
   "execution_count": 52,
   "metadata": {},
   "outputs": [
    {
     "data": {
      "text/html": [
       "<div>\n",
       "<style scoped>\n",
       "    .dataframe tbody tr th:only-of-type {\n",
       "        vertical-align: middle;\n",
       "    }\n",
       "\n",
       "    .dataframe tbody tr th {\n",
       "        vertical-align: top;\n",
       "    }\n",
       "\n",
       "    .dataframe thead th {\n",
       "        text-align: right;\n",
       "    }\n",
       "</style>\n",
       "<table border=\"1\" class=\"dataframe\">\n",
       "  <thead>\n",
       "    <tr style=\"text-align: right;\">\n",
       "      <th></th>\n",
       "      <th>bd_best</th>\n",
       "      <th>location_inc</th>\n",
       "      <th>per_capita_deaths</th>\n",
       "      <th>year</th>\n",
       "    </tr>\n",
       "  </thead>\n",
       "  <tbody>\n",
       "    <tr>\n",
       "      <th>36</th>\n",
       "      <td>27347</td>\n",
       "      <td>Syria</td>\n",
       "      <td>1.565767</td>\n",
       "      <td>2016</td>\n",
       "    </tr>\n",
       "    <tr>\n",
       "      <th>40</th>\n",
       "      <td>35349</td>\n",
       "      <td>Syria</td>\n",
       "      <td>1.964116</td>\n",
       "      <td>2015</td>\n",
       "    </tr>\n",
       "    <tr>\n",
       "      <th>44</th>\n",
       "      <td>3268</td>\n",
       "      <td>DR Congo (Zaire)</td>\n",
       "      <td>1.107177</td>\n",
       "      <td>1998</td>\n",
       "    </tr>\n",
       "    <tr>\n",
       "      <th>543</th>\n",
       "      <td>4457</td>\n",
       "      <td>DR Congo (Zaire)</td>\n",
       "      <td>1.554433</td>\n",
       "      <td>1997</td>\n",
       "    </tr>\n",
       "    <tr>\n",
       "      <th>597</th>\n",
       "      <td>44616</td>\n",
       "      <td>Syria</td>\n",
       "      <td>2.182901</td>\n",
       "      <td>2012</td>\n",
       "    </tr>\n",
       "    <tr>\n",
       "      <th>598</th>\n",
       "      <td>61728</td>\n",
       "      <td>Syria</td>\n",
       "      <td>3.152852</td>\n",
       "      <td>2013</td>\n",
       "    </tr>\n",
       "    <tr>\n",
       "      <th>599</th>\n",
       "      <td>56994</td>\n",
       "      <td>Syria</td>\n",
       "      <td>3.046063</td>\n",
       "      <td>2014</td>\n",
       "    </tr>\n",
       "    <tr>\n",
       "      <th>735</th>\n",
       "      <td>8005</td>\n",
       "      <td>Somalia</td>\n",
       "      <td>1.100491</td>\n",
       "      <td>1991</td>\n",
       "    </tr>\n",
       "  </tbody>\n",
       "</table>\n",
       "</div>"
      ],
      "text/plain": [
       "     bd_best      location_inc  per_capita_deaths  year\n",
       "36     27347             Syria           1.565767  2016\n",
       "40     35349             Syria           1.964116  2015\n",
       "44      3268  DR Congo (Zaire)           1.107177  1998\n",
       "543     4457  DR Congo (Zaire)           1.554433  1997\n",
       "597    44616             Syria           2.182901  2012\n",
       "598    61728             Syria           3.152852  2013\n",
       "599    56994             Syria           3.046063  2014\n",
       "735     8005           Somalia           1.100491  1991"
      ]
     },
     "execution_count": 52,
     "metadata": {},
     "output_type": "execute_result"
    }
   ],
   "source": [
    "# check range of per capita deaths\n",
    "brd_df[brd_df[\"per_capita_deaths\"] > 1][[\"bd_best\", \"location_inc\", \"per_capita_deaths\", \"year\"]]"
   ]
  },
  {
   "cell_type": "code",
   "execution_count": 54,
   "metadata": {},
   "outputs": [],
   "source": [
    "# also get ISO 3166-1 code\n",
    "brd_df[\"loc_id\"] = brd_df.apply(lambda r: pop_df.loc[r['location_inc']]['LocID'].values[0], axis=1)"
   ]
  },
  {
   "cell_type": "code",
   "execution_count": 56,
   "metadata": {},
   "outputs": [],
   "source": [
    "clean_per_cap_deaths = brd_df[[\"loc_id\", \"location_inc\", \"year\", \"per_capita_deaths\", \"bd_best\"]]"
   ]
  },
  {
   "cell_type": "code",
   "execution_count": 58,
   "metadata": {},
   "outputs": [],
   "source": [
    "clean_per_cap_deaths.to_csv(\"conflict_deaths_cleaned.csv\")"
   ]
  }
 ],
 "metadata": {
  "kernelspec": {
   "display_name": "Python 3",
   "language": "python",
   "name": "python3"
  },
  "language_info": {
   "codemirror_mode": {
    "name": "ipython",
    "version": 3
   },
   "file_extension": ".py",
   "mimetype": "text/x-python",
   "name": "python",
   "nbconvert_exporter": "python",
   "pygments_lexer": "ipython3",
   "version": "3.7.6"
  }
 },
 "nbformat": 4,
 "nbformat_minor": 4
}
